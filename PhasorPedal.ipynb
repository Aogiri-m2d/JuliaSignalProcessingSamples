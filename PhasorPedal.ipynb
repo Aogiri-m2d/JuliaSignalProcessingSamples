{
 "cells": [
  {
   "cell_type": "code",
   "execution_count": 1,
   "metadata": {},
   "outputs": [
    {
     "data": {
      "text/plain": [
       "\"true\""
      ]
     },
     "execution_count": 1,
     "metadata": {},
     "output_type": "execute_result"
    }
   ],
   "source": [
    "using ControlSystems\n",
    "using DSP\n",
    "using Plots\n",
    "gr()\n",
    "ENV[\"PLOTS_TEST\"] = \"true\""
   ]
  },
  {
   "cell_type": "code",
   "execution_count": 2,
   "metadata": {},
   "outputs": [
    {
     "data": {
      "text/plain": [
       "bodedata (generic function with 1 method)"
      ]
     },
     "execution_count": 2,
     "metadata": {},
     "output_type": "execute_result"
    }
   ],
   "source": [
    "mutable struct PhasorPedal\n",
    "    N::Int\n",
    "    fc::Float64\n",
    "    k::Float64\n",
    "end\n",
    "\n",
    "PhasorPedal() = PhasorPedal(2, 440., 0.5)\n",
    "\n",
    "function bodedata(self::PhasorPedal, f::Vector{Float64})\n",
    "    ω = 2π*f\n",
    "    ωc = 2π*self.fc\n",
    "    A = tf([1., -ωc], [1., ωc])\n",
    "    G = tf(1. - self.k) + tf(self.k)*A^(self.N)\n",
    "    mag, phase, _ = bode(G, ω)\n",
    "    \n",
    "    return mag[:], unwrap!(phase[:]/180*π, range=π)\n",
    "end"
   ]
  },
  {
   "cell_type": "code",
   "execution_count": 3,
   "metadata": {},
   "outputs": [
    {
     "data": {
      "text/plain": [
       "main (generic function with 1 method)"
      ]
     },
     "execution_count": 3,
     "metadata": {},
     "output_type": "execute_result"
    }
   ],
   "source": [
    "function main()\n",
    "    N = 2:2:10\n",
    "    fc = collect(100.:10.:1000.)\n",
    "    fc = append!(fc, reverse(fc))\n",
    "    f = 20000*linspace(0, 1., 750).^2 + 1.\n",
    "    phasor = PhasorPedal()\n",
    "    \n",
    "    anim = @animate for n=N, cutoff=fc\n",
    "        phasor.N = n\n",
    "        phasor.fc = cutoff\n",
    "        mag, phase = bodedata(phasor, f)\n",
    "        magplot = plot(f, mag, ylim=(0, 1), xscale=:log10, title=\"N = $n\", ylab=\"Amplitude\", legend=false)\n",
    "        plot!(magplot, [cutoff, cutoff], [0, 1], line=:dot)\n",
    "        phaseplot = plot(f, phase, ylim=(-5π, 0), xscale=:log10, xlab=\"Frequency [Hz]\", ylab=\"Phase [rad] \", legend=false)\n",
    "        plot!(phaseplot, [cutoff, cutoff], [-5π, 0], line=:dot)\n",
    "        plot(magplot, phaseplot, layout=@layout([a; b]))\n",
    "    end\n",
    "    \n",
    "    gif(anim, \"Resource\\\\Phasor.gif\", fps = 15)\n",
    "end"
   ]
  },
  {
   "cell_type": "code",
   "execution_count": 4,
   "metadata": {},
   "outputs": [
    {
     "name": "stderr",
     "output_type": "stream",
     "text": [
      "\u001b[1m\u001b[36mINFO: \u001b[39m\u001b[22m\u001b[36mSaved animation to C:\\Users\\Aogiri\\Documents\\GitHub\\JuliaSignalProcessingSamples\\Resource\\Phasor.gif\n",
      "\u001b[39m"
     ]
    },
    {
     "data": {
      "text/html": [
       "<img src=\"Resource\\Phasor.gif?0.8854198872248491>\" />"
      ],
      "text/plain": [
       "Plots.AnimatedGif(\"C:\\\\Users\\\\Aogiri\\\\Documents\\\\GitHub\\\\JuliaSignalProcessingSamples\\\\Resource\\\\Phasor.gif\")"
      ]
     },
     "execution_count": 4,
     "metadata": {},
     "output_type": "execute_result"
    }
   ],
   "source": [
    "main()"
   ]
  }
 ],
 "metadata": {
  "kernelspec": {
   "display_name": "Julia 0.6.2",
   "language": "julia",
   "name": "julia-0.6"
  },
  "language_info": {
   "file_extension": ".jl",
   "mimetype": "application/julia",
   "name": "julia",
   "version": "0.6.2"
  }
 },
 "nbformat": 4,
 "nbformat_minor": 2
}
